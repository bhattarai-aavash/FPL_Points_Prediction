{
 "cells": [
  {
   "cell_type": "code",
   "execution_count": 1,
   "id": "d3ec3652",
   "metadata": {},
   "outputs": [],
   "source": [
    "from telnetlib import X3PAD\n",
    "import pandas as pd\n",
    "import numpy as np\n",
    "from sklearn.preprocessing import StandardScaler\n",
    "import matplotlib.pyplot as plt \n",
    "\n",
    "from sklearn.utils import shuffle\n",
    "import pickle \n",
    "import sqlite3\n"
   ]
  },
  {
   "cell_type": "code",
   "execution_count": 2,
   "id": "80f6dcc1",
   "metadata": {},
   "outputs": [],
   "source": [
    "df_2020 = pd.read_csv('merged_gw2020.csv',low_memory = False)\n",
    "df_2021 = pd.read_csv('merged_gw2021.csv',low_memory = False)\n"
   ]
  },
  {
   "cell_type": "code",
   "execution_count": 3,
   "id": "bea0155b",
   "metadata": {},
   "outputs": [],
   "source": [
    "season_2020 = pd.DataFrame({'season' : ['2019/20']*df_2020.shape[0]   })\n",
    "season_2021 = pd.DataFrame({'season' : ['2020/21']*df_2021.shape[0]   })"
   ]
  },
  {
   "cell_type": "code",
   "execution_count": 4,
   "id": "e4507038",
   "metadata": {},
   "outputs": [],
   "source": [
    "df_2020 =pd.concat([df_2020, season_2020] ,axis = 'columns')\n",
    "df_2021 =pd.concat([df_2021, season_2021] ,axis = 'columns')\n"
   ]
  },
  {
   "cell_type": "code",
   "execution_count": 5,
   "id": "187873f2",
   "metadata": {},
   "outputs": [],
   "source": [
    "df= pd.concat([df_2020 , df_2021], axis = 'index',ignore_index = True)\n"
   ]
  },
  {
   "cell_type": "code",
   "execution_count": 6,
   "id": "14553a8b",
   "metadata": {},
   "outputs": [],
   "source": [
    "df[\"was_home\"] = df[\"was_home\"].astype(int)"
   ]
  },
  {
   "cell_type": "code",
   "execution_count": 7,
   "id": "20924c05",
   "metadata": {},
   "outputs": [],
   "source": [
    "df.sort_values(by=['name','season','GW'], inplace =True)\n",
    "df.reset_index(inplace = True)\n",
    "\n",
    "\n",
    "df.drop(['index'],axis= 'columns' , inplace =True)"
   ]
  },
  {
   "cell_type": "code",
   "execution_count": 8,
   "id": "738f3dbf",
   "metadata": {},
   "outputs": [],
   "source": [
    "df['id'] = df.groupby(['name']).ngroup()"
   ]
  },
  {
   "cell_type": "code",
   "execution_count": 9,
   "id": "94640366",
   "metadata": {},
   "outputs": [],
   "source": [
    "df['pos']= df.groupby(['position']).ngroup()"
   ]
  },
  {
   "cell_type": "code",
   "execution_count": 10,
   "id": "2b7fe921",
   "metadata": {},
   "outputs": [],
   "source": [
    "df['teams'] = df.groupby(['team']).ngroup()"
   ]
  },
  {
   "cell_type": "code",
   "execution_count": 11,
   "id": "dc081986",
   "metadata": {},
   "outputs": [],
   "source": [
    "identity = df['id'].unique()"
   ]
  },
  {
   "cell_type": "markdown",
   "id": "bc4dcf50",
   "metadata": {},
   "source": [
    "### Enter the gameweek \n"
   ]
  },
  {
   "cell_type": "code",
   "execution_count": null,
   "id": "a2521f4a",
   "metadata": {},
   "outputs": [],
   "source": []
  },
  {
   "cell_type": "code",
   "execution_count": 12,
   "id": "a8dbfa8a",
   "metadata": {},
   "outputs": [],
   "source": [
    "x = 25"
   ]
  },
  {
   "cell_type": "code",
   "execution_count": null,
   "id": "149b2bc0",
   "metadata": {},
   "outputs": [],
   "source": [
    "\n"
   ]
  },
  {
   "cell_type": "markdown",
   "id": "e3c6b35e",
   "metadata": {},
   "source": []
  },
  {
   "cell_type": "code",
   "execution_count": 13,
   "id": "9e696f59",
   "metadata": {},
   "outputs": [
    {
     "data": {
      "text/html": [
       "<div>\n",
       "<style scoped>\n",
       "    .dataframe tbody tr th:only-of-type {\n",
       "        vertical-align: middle;\n",
       "    }\n",
       "\n",
       "    .dataframe tbody tr th {\n",
       "        vertical-align: top;\n",
       "    }\n",
       "\n",
       "    .dataframe thead th {\n",
       "        text-align: right;\n",
       "    }\n",
       "</style>\n",
       "<table border=\"1\" class=\"dataframe\">\n",
       "  <thead>\n",
       "    <tr style=\"text-align: right;\">\n",
       "      <th></th>\n",
       "      <th>id</th>\n",
       "      <th>name</th>\n",
       "      <th>position</th>\n",
       "    </tr>\n",
       "  </thead>\n",
       "  <tbody>\n",
       "    <tr>\n",
       "      <th>0</th>\n",
       "      <td>0</td>\n",
       "      <td>Aaron Connolly</td>\n",
       "      <td>FWD</td>\n",
       "    </tr>\n",
       "    <tr>\n",
       "      <th>62</th>\n",
       "      <td>1</td>\n",
       "      <td>Aaron Cresswell</td>\n",
       "      <td>DEF</td>\n",
       "    </tr>\n",
       "    <tr>\n",
       "      <th>125</th>\n",
       "      <td>2</td>\n",
       "      <td>Aaron Lennon</td>\n",
       "      <td>MID</td>\n",
       "    </tr>\n",
       "    <tr>\n",
       "      <th>144</th>\n",
       "      <td>3</td>\n",
       "      <td>Aaron Mooy</td>\n",
       "      <td>MID</td>\n",
       "    </tr>\n",
       "    <tr>\n",
       "      <th>182</th>\n",
       "      <td>4</td>\n",
       "      <td>Aaron Ramsdale</td>\n",
       "      <td>GK</td>\n",
       "    </tr>\n",
       "    <tr>\n",
       "      <th>...</th>\n",
       "      <td>...</td>\n",
       "      <td>...</td>\n",
       "      <td>...</td>\n",
       "    </tr>\n",
       "    <tr>\n",
       "      <th>39046</th>\n",
       "      <td>960</td>\n",
       "      <td>Zak Brunt</td>\n",
       "      <td>MID</td>\n",
       "    </tr>\n",
       "    <tr>\n",
       "      <th>39063</th>\n",
       "      <td>961</td>\n",
       "      <td>Zeze Steven Sessegnon</td>\n",
       "      <td>DEF</td>\n",
       "    </tr>\n",
       "    <tr>\n",
       "      <th>39101</th>\n",
       "      <td>962</td>\n",
       "      <td>Álvaro Fernández</td>\n",
       "      <td>GK</td>\n",
       "    </tr>\n",
       "    <tr>\n",
       "      <th>39125</th>\n",
       "      <td>963</td>\n",
       "      <td>Çaglar Söyüncü</td>\n",
       "      <td>DEF</td>\n",
       "    </tr>\n",
       "    <tr>\n",
       "      <th>39185</th>\n",
       "      <td>964</td>\n",
       "      <td>Ørjan Nyland</td>\n",
       "      <td>GK</td>\n",
       "    </tr>\n",
       "  </tbody>\n",
       "</table>\n",
       "<p>965 rows × 3 columns</p>\n",
       "</div>"
      ],
      "text/plain": [
       "        id                   name position\n",
       "0        0         Aaron Connolly      FWD\n",
       "62       1        Aaron Cresswell      DEF\n",
       "125      2           Aaron Lennon      MID\n",
       "144      3             Aaron Mooy      MID\n",
       "182      4         Aaron Ramsdale       GK\n",
       "...    ...                    ...      ...\n",
       "39046  960              Zak Brunt      MID\n",
       "39063  961  Zeze Steven Sessegnon      DEF\n",
       "39101  962       Álvaro Fernández       GK\n",
       "39125  963         Çaglar Söyüncü      DEF\n",
       "39185  964           Ørjan Nyland       GK\n",
       "\n",
       "[965 rows x 3 columns]"
      ]
     },
     "execution_count": 13,
     "metadata": {},
     "output_type": "execute_result"
    }
   ],
   "source": [
    "\n",
    "df_id = df.loc[: , ['id', 'name' ,'position']]\n",
    "df_id.reset_index(inplace = True)\n",
    "df_id.drop_duplicates(subset='id',keep = 'first',inplace = True)\n",
    "\n",
    "df_id.drop(['index'],axis= 'columns' , inplace =True)\n",
    "df_id"
   ]
  },
  {
   "cell_type": "code",
   "execution_count": 14,
   "id": "9873c9b5",
   "metadata": {},
   "outputs": [],
   "source": [
    "y=x\n",
    "Gameweeks=[]"
   ]
  },
  {
   "cell_type": "code",
   "execution_count": 15,
   "id": "dc1aa8f0",
   "metadata": {},
   "outputs": [],
   "source": [
    "for i in range(5):\n",
    "    Gameweeks.append(y)\n",
    "    y=y-1\n"
   ]
  },
  {
   "cell_type": "code",
   "execution_count": null,
   "id": "7ef0f34b",
   "metadata": {},
   "outputs": [],
   "source": []
  },
  {
   "cell_type": "code",
   "execution_count": 16,
   "id": "8e4fa597",
   "metadata": {},
   "outputs": [],
   "source": [
    "dataframes = {}"
   ]
  },
  {
   "cell_type": "code",
   "execution_count": 17,
   "id": "54979a4b",
   "metadata": {},
   "outputs": [
    {
     "name": "stderr",
     "output_type": "stream",
     "text": [
      "/home/aavash/Downloads/jupyter/environment/lib/python3.8/site-packages/pandas/core/frame.py:4906: SettingWithCopyWarning: \n",
      "A value is trying to be set on a copy of a slice from a DataFrame\n",
      "\n",
      "See the caveats in the documentation: https://pandas.pydata.org/pandas-docs/stable/user_guide/indexing.html#returning-a-view-versus-a-copy\n",
      "  return super().drop(\n"
     ]
    }
   ],
   "source": [
    "for GW in Gameweeks:\n",
    "    filt=(df['GW'] == GW) & (df['season'] == '2020/21')\n",
    "    dataframes[GW] = df[filt]\n",
    "    dataframes[GW].reset_index(inplace = True)\n",
    "    dataframes[GW].drop(['index'],axis= 'columns' , inplace =True)\n",
    "    dataframes[GW].drop([ 'kickoff_time','season', 'name' , 'position','pos' ,'GW' ,'team','teams'],axis= 'columns' , inplace =True)\n",
    "    "
   ]
  },
  {
   "cell_type": "code",
   "execution_count": 18,
   "id": "72034826",
   "metadata": {},
   "outputs": [],
   "source": [
    "n = 0\n",
    "for keys in dataframes:\n",
    "    column = []\n",
    "    \n",
    "    for value in dataframes[keys].columns:\n",
    "        \n",
    "        if (value != 'id')  & (value!='team'):\n",
    "            value = value +f'_{n}' \n",
    "        column.append(value)\n",
    "        \n",
    "    dataframes[keys].columns = column\n",
    "    n=n-1   "
   ]
  },
  {
   "cell_type": "code",
   "execution_count": 19,
   "id": "3c98e2f1",
   "metadata": {},
   "outputs": [
    {
     "name": "stderr",
     "output_type": "stream",
     "text": [
      "/home/aavash/Downloads/jupyter/environment/lib/python3.8/site-packages/pandas/util/_decorators.py:311: SettingWithCopyWarning: \n",
      "A value is trying to be set on a copy of a slice from a DataFrame\n",
      "\n",
      "See the caveats in the documentation: https://pandas.pydata.org/pandas-docs/stable/user_guide/indexing.html#returning-a-view-versus-a-copy\n",
      "  return func(*args, **kwargs)\n"
     ]
    }
   ],
   "source": [
    "for keys in dataframes:\n",
    "    dataframes[keys].drop_duplicates(subset='id' , keep ='first' , inplace = True)\n",
    "    dataframes[keys].reset_index(inplace = True)\n",
    "    dataframes[keys].drop(['index'],axis= 'columns' , inplace =True)"
   ]
  },
  {
   "cell_type": "code",
   "execution_count": 20,
   "id": "5130f857",
   "metadata": {},
   "outputs": [
    {
     "name": "stdout",
     "output_type": "stream",
     "text": [
      "<class 'pandas.core.frame.DataFrame'>\n",
      "RangeIndex: 634 entries, 0 to 633\n",
      "Data columns (total 32 columns):\n",
      " #   Column                Non-Null Count  Dtype  \n",
      "---  ------                --------------  -----  \n",
      " 0   xP_-1                 634 non-null    float64\n",
      " 1   assists_-1            634 non-null    int64  \n",
      " 2   bonus_-1              634 non-null    int64  \n",
      " 3   bps_-1                634 non-null    int64  \n",
      " 4   clean_sheets_-1       634 non-null    int64  \n",
      " 5   creativity_-1         634 non-null    float64\n",
      " 6   element_-1            634 non-null    int64  \n",
      " 7   fixture_-1            634 non-null    int64  \n",
      " 8   goals_conceded_-1     634 non-null    int64  \n",
      " 9   goals_scored_-1       634 non-null    int64  \n",
      " 10  ict_index_-1          634 non-null    float64\n",
      " 11  influence_-1          634 non-null    float64\n",
      " 12  minutes_-1            634 non-null    int64  \n",
      " 13  opponent_team_-1      634 non-null    int64  \n",
      " 14  own_goals_-1          634 non-null    int64  \n",
      " 15  penalties_missed_-1   634 non-null    int64  \n",
      " 16  penalties_saved_-1    634 non-null    int64  \n",
      " 17  red_cards_-1          634 non-null    int64  \n",
      " 18  round_-1              634 non-null    int64  \n",
      " 19  saves_-1              634 non-null    int64  \n",
      " 20  selected_-1           634 non-null    int64  \n",
      " 21  team_a_score_-1       634 non-null    int64  \n",
      " 22  team_h_score_-1       634 non-null    int64  \n",
      " 23  threat_-1             634 non-null    float64\n",
      " 24  total_points_-1       634 non-null    int64  \n",
      " 25  transfers_balance_-1  634 non-null    int64  \n",
      " 26  transfers_in_-1       634 non-null    int64  \n",
      " 27  transfers_out_-1      634 non-null    int64  \n",
      " 28  value_-1              634 non-null    int64  \n",
      " 29  was_home_-1           634 non-null    int64  \n",
      " 30  yellow_cards_-1       634 non-null    int64  \n",
      " 31  id                    634 non-null    int64  \n",
      "dtypes: float64(5), int64(27)\n",
      "memory usage: 158.6 KB\n"
     ]
    }
   ],
   "source": [
    "dataframes[24].info()"
   ]
  },
  {
   "cell_type": "code",
   "execution_count": 21,
   "id": "e42df409",
   "metadata": {},
   "outputs": [],
   "source": [
    "df1 = pd.merge(dataframes[x] , dataframes[x-1], on = 'id' , how = 'outer')\n",
    "df1 = pd.merge(df1 , dataframes[x-2], on = 'id' , how = 'outer')\n",
    "df1 = pd.merge(df1 , dataframes[x-3], on = 'id' , how = 'outer')\n",
    "df1 = pd.merge(df1 , dataframes[x-4], on = 'id' , how = 'outer')"
   ]
  },
  {
   "cell_type": "code",
   "execution_count": 22,
   "id": "82b7ab88",
   "metadata": {},
   "outputs": [],
   "source": [
    "filt = (df['GW'] == x) | (df['GW'] == x-1) | (df['GW'] == x-2) | (df['GW'] == x-3) | (df['GW'] == x-4)\n",
    "df_position = df.loc[filt , ['id' , 'pos','teams']]"
   ]
  },
  {
   "cell_type": "code",
   "execution_count": 23,
   "id": "079816b3",
   "metadata": {},
   "outputs": [],
   "source": [
    "df_position.drop_duplicates(subset='id',keep = 'first',inplace = True)\n",
    "df_position.reset_index(inplace = True)\n",
    "df_position.drop(['index'],axis= 'columns' , inplace =True)"
   ]
  },
  {
   "cell_type": "code",
   "execution_count": 24,
   "id": "c4e6b58a",
   "metadata": {},
   "outputs": [],
   "source": [
    "df1.drop_duplicates(subset='id',keep = 'first',inplace = True)\n",
    "df1.reset_index(inplace = True)\n",
    "df1.drop(['index'],axis= 'columns' , inplace =True)"
   ]
  },
  {
   "cell_type": "code",
   "execution_count": 25,
   "id": "bdf0e898",
   "metadata": {},
   "outputs": [],
   "source": [
    "df1 = df1.fillna(df1.median())"
   ]
  },
  {
   "cell_type": "code",
   "execution_count": null,
   "id": "b701ca98",
   "metadata": {},
   "outputs": [],
   "source": [
    "\n",
    "    "
   ]
  },
  {
   "cell_type": "code",
   "execution_count": null,
   "id": "161c9d38",
   "metadata": {},
   "outputs": [],
   "source": []
  },
  {
   "cell_type": "code",
   "execution_count": null,
   "id": "487919f7",
   "metadata": {},
   "outputs": [],
   "source": []
  },
  {
   "cell_type": "code",
   "execution_count": null,
   "id": "40eabeaa",
   "metadata": {},
   "outputs": [],
   "source": []
  },
  {
   "cell_type": "code",
   "execution_count": 26,
   "id": "d0b49a8e",
   "metadata": {},
   "outputs": [],
   "source": [
    "df1 = pd.merge(df1 , df_position, on = 'id' , how = 'inner')"
   ]
  },
  {
   "cell_type": "code",
   "execution_count": 27,
   "id": "ae49fce6",
   "metadata": {},
   "outputs": [],
   "source": [
    "columns = df1.columns\n",
    "remove = ('pos','teams','id','total_points')\n",
    "a = set(columns)\n",
    "b = a.difference(remove)\n",
    "columns = list(b)"
   ]
  },
  {
   "cell_type": "code",
   "execution_count": 28,
   "id": "7bc22b7e",
   "metadata": {},
   "outputs": [],
   "source": [
    "df1.loc[:,columns] = StandardScaler().fit_transform(df1.loc[:, columns])"
   ]
  },
  {
   "cell_type": "code",
   "execution_count": 29,
   "id": "521bfcab",
   "metadata": {},
   "outputs": [],
   "source": [
    "X=df1.drop(['id'  ,'pos','teams'],axis ='columns') \n"
   ]
  },
  {
   "cell_type": "code",
   "execution_count": 30,
   "id": "3cc46766",
   "metadata": {},
   "outputs": [],
   "source": [
    "import pickle\n",
    "\n",
    "with open('model_pickle','rb') as file:\n",
    "    mp = pickle.load(file)"
   ]
  },
  {
   "cell_type": "code",
   "execution_count": 31,
   "id": "310ee4fc",
   "metadata": {},
   "outputs": [],
   "source": [
    "df1['predict'] = mp.predict(X)\n",
    "\n",
    "\n"
   ]
  },
  {
   "cell_type": "code",
   "execution_count": 32,
   "id": "da1b5c7a",
   "metadata": {},
   "outputs": [],
   "source": [
    "df1 = pd.merge(df1 , df_id, on = 'id' , how = 'inner')"
   ]
  },
  {
   "cell_type": "code",
   "execution_count": 34,
   "id": "0089f553",
   "metadata": {},
   "outputs": [],
   "source": [
    "df_op = df1.loc[:,['predict' , 'name' , 'position']]"
   ]
  },
  {
   "cell_type": "code",
   "execution_count": 37,
   "id": "a5ee02ba",
   "metadata": {},
   "outputs": [
    {
     "data": {
      "text/plain": [
       "False"
      ]
     },
     "execution_count": 37,
     "metadata": {},
     "output_type": "execute_result"
    }
   ],
   "source": [
    "df_op.isnull().values.any()"
   ]
  },
  {
   "cell_type": "code",
   "execution_count": 39,
   "id": "9e142769",
   "metadata": {},
   "outputs": [],
   "source": [
    "df_op.to_csv('final_result')"
   ]
  },
  {
   "cell_type": "code",
   "execution_count": null,
   "id": "f970b9dc",
   "metadata": {},
   "outputs": [],
   "source": []
  },
  {
   "cell_type": "code",
   "execution_count": null,
   "id": "3c7932dd",
   "metadata": {},
   "outputs": [],
   "source": []
  },
  {
   "cell_type": "code",
   "execution_count": null,
   "id": "1f200a0e",
   "metadata": {},
   "outputs": [],
   "source": []
  }
 ],
 "metadata": {
  "kernelspec": {
   "display_name": "Python 3 (ipykernel)",
   "language": "python",
   "name": "python3"
  },
  "language_info": {
   "codemirror_mode": {
    "name": "ipython",
    "version": 3
   },
   "file_extension": ".py",
   "mimetype": "text/x-python",
   "name": "python",
   "nbconvert_exporter": "python",
   "pygments_lexer": "ipython3",
   "version": "3.8.10"
  }
 },
 "nbformat": 4,
 "nbformat_minor": 5
}
